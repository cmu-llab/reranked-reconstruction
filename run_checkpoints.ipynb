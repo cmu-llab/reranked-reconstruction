{
 "cells": [
  {
   "cell_type": "markdown",
   "metadata": {},
   "source": [
    "# Loading and evaluating checkpoints\n",
    "\n",
    "This notebook demonstrates how checkpoints can be evaluated and combined into a reranking system. We use WikiHan as an example."
   ]
  },
  {
   "cell_type": "code",
   "execution_count": 12,
   "metadata": {},
   "outputs": [],
   "source": [
    "import torch\n",
    "from einops import rearrange, repeat\n",
    "\n",
    "import pytorch_lightning as pl\n",
    "from lib.analysis_utils import *\n",
    "from specialtokens import *\n",
    "from tqdm import tqdm\n",
    "import pandas as pd\n",
    "import matplotlib.pyplot as plt\n",
    "import seaborn as sns\n",
    "import itertools\n",
    "import torchshow as ts\n",
    "import os\n",
    "import argparse\n",
    "import json\n",
    "import os\n",
    "from dotenv import load_dotenv\n",
    "load_dotenv()\n",
    "import warnings\n",
    "warnings.filterwarnings(action=\"ignore\", message=\".*num_workers.*\")\n",
    "warnings.filterwarnings(action=\"ignore\", message=\".*negatively affect performance.*\")\n",
    "warnings.filterwarnings(action=\"ignore\", message=\".*MPS available.*\")"
   ]
  },
  {
   "cell_type": "code",
   "execution_count": 14,
   "metadata": {},
   "outputs": [],
   "source": [
    "# === load d2p model === 7jff7nhf\n",
    "d2p_run = SubmodelRunFromFile(checkpoint_path = 'demo_checkpoints/model-7jff7nhf:v0', config_path = 'best_hparams/d2p-wikihan-GRU_beam.pkl')\n",
    "assert d2p_run.config_class.submodel == 'd2p'\n",
    "d2p_dm = d2p_run.get_dm()\n",
    "d2p_model = d2p_run.get_model(d2p_dm)"
   ]
  },
  {
   "cell_type": "code",
   "execution_count": 15,
   "metadata": {},
   "outputs": [],
   "source": [
    "# === load p2d model === bkdvx767\n",
    "p2d_run = SubmodelRunFromFile(checkpoint_path = 'demo_checkpoints/model-bkdvx767:v0', config_path = 'best_hparams/p2d-wikihan-GRU.pkl')\n",
    "assert p2d_run.config_class.submodel == 'p2d'\n",
    "p2d_dm = p2d_run.get_dm()\n",
    "p2d_model = p2d_run.get_model(p2d_dm)"
   ]
  },
  {
   "cell_type": "code",
   "execution_count": 16,
   "metadata": {},
   "outputs": [],
   "source": [
    "# === Making sure the two models use same dataset ===\n",
    "assert d2p_run.config_class.dataset == p2d_run.config_class.dataset"
   ]
  },
  {
   "cell_type": "code",
   "execution_count": 17,
   "metadata": {},
   "outputs": [],
   "source": [
    "# === results from grid search ===\n",
    "def get_hparam():\n",
    "    match (d2p_run.config_class.dataset, p2d_run.config_class.architecture):\n",
    "        # this is average from reranking_eval2\n",
    "        case ('chinese_baxter', 'GRU'):\n",
    "            return round(7.2), 1.7550000000000003\n",
    "        case ('chinese_baxter', 'Transformer'):\n",
    "            return round(6.50000001), 2.43\n",
    "        case ('chinese_baxter', 'JambuTransformer'):\n",
    "            return round(6.50000001), 2.415\n",
    "        case ('chinese_wikihan2022', 'GRU'):\n",
    "            return round(5.9), 1.395\n",
    "        case ('chinese_wikihan2022', 'Transformer'):\n",
    "            return round(6.3), 1.275\n",
    "        case ('chinese_wikihan2022', 'JambuTransformer'):\n",
    "            return round(6.6), 1.2600000000000002\n",
    "        case ('chinese_wikihan2022_augmented', 'GRU'):\n",
    "            return round(7.0), 1.6199999999999997\n",
    "        case ('chinese_wikihan2022_augmented', 'Transformer'):\n",
    "            return round(8.3), 1.7550000000000001\n",
    "        case ('chinese_wikihan2022_augmented', 'JambuTransformer'):\n",
    "            return round(6.6), 1.5749999999999997\n",
    "        case ('Nromance_ipa', 'GRU'):\n",
    "            return round(5.4), 0.41999999999999993\n",
    "        case ('Nromance_ipa', 'Transformer'):\n",
    "            return round(6.1), 0.5549999999999999\n",
    "        case ('Nromance_ipa', 'JambuTransformer'):\n",
    "            return round(6.0), 0.5850000000000001\n",
    "        case ('Nromance_orto', 'GRU'):\n",
    "            return round(6.1), 0.8699999999999999\n",
    "        case ('Nromance_orto', 'Transformer'):\n",
    "            return round(5.5000001), 0.99\n",
    "        case ('Nromance_orto', 'JambuTransformer'):\n",
    "            return round(5.2), 0.915\n",
    "        case _:\n",
    "            raise NotImplemented"
   ]
  },
  {
   "cell_type": "markdown",
   "metadata": {},
   "source": [
    "## Evaluate Submodels"
   ]
  },
  {
   "cell_type": "markdown",
   "metadata": {},
   "source": [
    "### Evaluate GRU-BS with k = 10"
   ]
  },
  {
   "cell_type": "code",
   "execution_count": 18,
   "metadata": {},
   "outputs": [
    {
     "name": "stdout",
     "output_type": "stream",
     "text": [
      "Testing DataLoader 0: 100%|██████████| 17/17 [00:03<00:00,  4.50it/s]"
     ]
    },
    {
     "name": "stderr",
     "output_type": "stream",
     "text": []
    },
    {
     "name": "stdout",
     "output_type": "stream",
     "text": [
      "Testing DataLoader 0: 100%|██████████| 17/17 [00:04<00:00,  3.85it/s]\n"
     ]
    },
    {
     "data": {
      "text/plain": [
       "{'d2p/test/loss': 0.5365998148918152,\n",
       " 'd2p/test/recon_loss': 0.5365998148918152,\n",
       " 'd2p/test/kl_loss': 0.0,\n",
       " 'd2p/test/accuracy': 0.5285575985908508,\n",
       " 'd2p/test/char_edit_distance': 0.8818973898887634,\n",
       " 'd2p/test/phoneme_edit_distance': 0.7676669955253601,\n",
       " 'd2p/test/phoneme_error_rate': 0.17981860041618347,\n",
       " 'd2p/test/feature_error_rate': 0.07038774341344833,\n",
       " 'd2p/test/bcubed_f_score': 0.7298532128334045,\n",
       " 'd2p/test/avg_target_phoneme_len': 4.2691192626953125,\n",
       " 'd2p/test/avg_prediction_phoneme_len': 4.254598140716553,\n",
       " 'd2p/test/avg_t_rank_in_beam_search': 1.0334448160535117,\n",
       " 'd2p/test/std_t_rank_in_beam_search': 1.8629152827312523,\n",
       " 'd2p/test/target_in_beam': 0.8683446049690247}"
      ]
     },
     "execution_count": 18,
     "metadata": {},
     "output_type": "execute_result"
    }
   ],
   "source": [
    "beam_search_eval(d2p_model, d2p_dm, beam_size=10, split='test')"
   ]
  },
  {
   "cell_type": "markdown",
   "metadata": {},
   "source": [
    "### Evaluate Reflex Prediction"
   ]
  },
  {
   "cell_type": "code",
   "execution_count": 19,
   "metadata": {},
   "outputs": [
    {
     "name": "stdout",
     "output_type": "stream",
     "text": [
      "Testing: 0it [00:00, ?it/s]"
     ]
    },
    {
     "name": "stdout",
     "output_type": "stream",
     "text": [
      "Testing DataLoader 0: 100%|██████████| 17/17 [00:02<00:00,  7.14it/s]"
     ]
    },
    {
     "name": "stderr",
     "output_type": "stream",
     "text": []
    },
    {
     "name": "stdout",
     "output_type": "stream",
     "text": [
      "Testing DataLoader 0: 100%|██████████| 17/17 [00:05<00:00,  3.16it/s]\n"
     ]
    },
    {
     "data": {
      "text/plain": [
       "{'p2d/test/loss': 0.45579683780670166,\n",
       " 'p2d/test/recon_loss': 0.45579683780670166,\n",
       " 'p2d/test/kl_loss': 0.0,\n",
       " 'p2d/test/Mandarin/accuracy': 0.7299128770828247,\n",
       " 'p2d/test/Mandarin/char_edit_distance': 0.6292352080345154,\n",
       " 'p2d/test/Mandarin/phoneme_edit_distance': 0.39399805665016174,\n",
       " 'p2d/test/Mandarin/phoneme_error_rate': 0.12041420489549637,\n",
       " 'p2d/test/Mandarin/feature_error_rate': 0.03036404587328434,\n",
       " 'p2d/test/Mandarin/bcubed_f_score': 0.7924480438232422,\n",
       " 'p2d/test/Gan/accuracy': 0.7351598143577576,\n",
       " 'p2d/test/Gan/char_edit_distance': 0.6392694115638733,\n",
       " 'p2d/test/Gan/phoneme_edit_distance': 0.3652968108654022,\n",
       " 'p2d/test/Gan/phoneme_error_rate': 0.10840108245611191,\n",
       " 'p2d/test/Gan/feature_error_rate': 0.02858753129839897,\n",
       " 'p2d/test/Gan/bcubed_f_score': 0.8253531455993652,\n",
       " 'p2d/test/Jin/accuracy': 0.7120622396469116,\n",
       " 'p2d/test/Jin/char_edit_distance': 0.774319052696228,\n",
       " 'p2d/test/Jin/phoneme_edit_distance': 0.47081711888313293,\n",
       " 'p2d/test/Jin/phoneme_error_rate': 0.14037123322486877,\n",
       " 'p2d/test/Jin/feature_error_rate': 0.036096349358558655,\n",
       " 'p2d/test/Jin/bcubed_f_score': 0.7860791087150574,\n",
       " 'p2d/test/Wu/accuracy': 0.7820000052452087,\n",
       " 'p2d/test/Wu/char_edit_distance': 0.6639999747276306,\n",
       " 'p2d/test/Wu/phoneme_edit_distance': 0.421999990940094,\n",
       " 'p2d/test/Wu/phoneme_error_rate': 0.12168397009372711,\n",
       " 'p2d/test/Wu/feature_error_rate': 0.02679111808538437,\n",
       " 'p2d/test/Wu/bcubed_f_score': 0.8046013712882996,\n",
       " 'p2d/test/Xiang/accuracy': 0.5974576473236084,\n",
       " 'p2d/test/Xiang/char_edit_distance': 1.0677965879440308,\n",
       " 'p2d/test/Xiang/phoneme_edit_distance': 0.6313559412956238,\n",
       " 'p2d/test/Xiang/phoneme_error_rate': 0.20080862939357758,\n",
       " 'p2d/test/Xiang/feature_error_rate': 0.041570838540792465,\n",
       " 'p2d/test/Xiang/bcubed_f_score': 0.7078110575675964,\n",
       " 'p2d/test/accuracy': 0.6648837924003601,\n",
       " 'p2d/test/char_edit_distance': 0.8245217204093933,\n",
       " 'p2d/test/phoneme_edit_distance': 0.5212919116020203,\n",
       " 'p2d/test/phoneme_error_rate': 0.15378080308437347,\n",
       " 'p2d/test/feature_error_rate': 0.039819713681936264,\n",
       " 'p2d/test/bcubed_f_score': 0.7409544587135315,\n",
       " 'p2d/test/avg_target_phoneme_len': 3.3898375034332275,\n",
       " 'p2d/test/avg_prediction_phoneme_len': 3.3927175998687744,\n",
       " 'p2d/test/Hakka/accuracy': 0.6226415038108826,\n",
       " 'p2d/test/Hakka/char_edit_distance': 0.8867924809455872,\n",
       " 'p2d/test/Hakka/phoneme_edit_distance': 0.5643224716186523,\n",
       " 'p2d/test/Hakka/phoneme_error_rate': 0.16246913373470306,\n",
       " 'p2d/test/Hakka/feature_error_rate': 0.043437372893095016,\n",
       " 'p2d/test/Hakka/bcubed_f_score': 0.7329088449478149,\n",
       " 'p2d/test/Hokkien/accuracy': 0.521478533744812,\n",
       " 'p2d/test/Hokkien/char_edit_distance': 1.2527472972869873,\n",
       " 'p2d/test/Hokkien/phoneme_edit_distance': 0.8001998066902161,\n",
       " 'p2d/test/Hokkien/phoneme_error_rate': 0.23839285969734192,\n",
       " 'p2d/test/Hokkien/feature_error_rate': 0.07435428351163864,\n",
       " 'p2d/test/Hokkien/bcubed_f_score': 0.6477261185646057,\n",
       " 'p2d/test/Cantonese/accuracy': 0.694767415523529,\n",
       " 'p2d/test/Cantonese/char_edit_distance': 0.643410861492157,\n",
       " 'p2d/test/Cantonese/phoneme_edit_distance': 0.42248061299324036,\n",
       " 'p2d/test/Cantonese/phoneme_error_rate': 0.11987902224063873,\n",
       " 'p2d/test/Cantonese/feature_error_rate': 0.02373853139579296,\n",
       " 'p2d/test/Cantonese/bcubed_f_score': 0.7919967174530029}"
      ]
     },
     "execution_count": 19,
     "metadata": {},
     "output_type": "execute_result"
    }
   ],
   "source": [
    "eval_on_set(p2d_model, p2d_dm, split='test')"
   ]
  },
  {
   "cell_type": "markdown",
   "metadata": {},
   "source": [
    "## Evaluate Reranked Reconstruction"
   ]
  },
  {
   "cell_type": "code",
   "execution_count": 20,
   "metadata": {},
   "outputs": [
    {
     "name": "stdout",
     "output_type": "stream",
     "text": [
      "Testing: 0it [00:00, ?it/s]"
     ]
    },
    {
     "name": "stdout",
     "output_type": "stream",
     "text": [
      "Testing DataLoader 0: 100%|██████████| 17/17 [00:09<00:00,  1.78it/s]"
     ]
    },
    {
     "name": "stderr",
     "output_type": "stream",
     "text": []
    },
    {
     "name": "stdout",
     "output_type": "stream",
     "text": [
      "Testing DataLoader 0: 100%|██████████| 17/17 [00:10<00:00,  1.69it/s]\n"
     ]
    },
    {
     "data": {
      "text/plain": [
       "{'d2p/test/loss': 0.5365998148918152,\n",
       " 'd2p/test/recon_loss': 0.5365998148918152,\n",
       " 'd2p/test/kl_loss': 0.0,\n",
       " 'd2p/test/accuracy': 0.5682477951049805,\n",
       " 'd2p/test/char_edit_distance': 0.7909002900123596,\n",
       " 'd2p/test/phoneme_edit_distance': 0.7008712291717529,\n",
       " 'd2p/test/phoneme_error_rate': 0.16417233645915985,\n",
       " 'd2p/test/feature_error_rate': 0.06428731232881546,\n",
       " 'd2p/test/bcubed_f_score': 0.750727117061615,\n",
       " 'd2p/test/avg_target_phoneme_len': 4.2691192626953125,\n",
       " 'd2p/test/avg_prediction_phoneme_len': 4.254598140716553}"
      ]
     },
     "execution_count": 20,
     "metadata": {},
     "output_type": "execute_result"
    }
   ],
   "source": [
    "best_beam_size, best_beam_reranker_weight_ratio = get_hparam()\n",
    "batched_reranking_eval(d2p_model, p2d_model, d2p_dm, \n",
    "    reranker = BatchedCorrectRateReranker(p2d_model),\n",
    "    rescorer = BatchedLinearRescorer(original_log_prob_weight = 1.0, reranker_weight = best_beam_reranker_weight_ratio), \n",
    "    beam_size = best_beam_size, \n",
    "    split = 'test',\n",
    ")"
   ]
  },
  {
   "cell_type": "code",
   "execution_count": null,
   "metadata": {},
   "outputs": [],
   "source": []
  }
 ],
 "metadata": {
  "kernelspec": {
   "display_name": "base",
   "language": "python",
   "name": "python3"
  },
  "language_info": {
   "codemirror_mode": {
    "name": "ipython",
    "version": 3
   },
   "file_extension": ".py",
   "mimetype": "text/x-python",
   "name": "python",
   "nbconvert_exporter": "python",
   "pygments_lexer": "ipython3",
   "version": "3.10.13"
  }
 },
 "nbformat": 4,
 "nbformat_minor": 2
}
